{
 "cells": [
  {
   "cell_type": "markdown",
   "id": "7b676042",
   "metadata": {},
   "source": [
    "### Upper Confidence Bound Model (UCB)"
   ]
  },
  {
   "cell_type": "markdown",
   "id": "eabdc3d0",
   "metadata": {},
   "source": [
    "#### importing the libraries"
   ]
  },
  {
   "cell_type": "code",
   "execution_count": 1,
   "id": "d1d514e9",
   "metadata": {},
   "outputs": [],
   "source": [
    "import pandas as pd\n",
    "import numpy as np\n",
    "import matplotlib.pyplot as plt"
   ]
  },
  {
   "cell_type": "markdown",
   "id": "32fe12ca",
   "metadata": {},
   "source": [
    "#### importing the dataset"
   ]
  },
  {
   "cell_type": "code",
   "execution_count": null,
   "id": "fbffeea2",
   "metadata": {},
   "outputs": [],
   "source": []
  },
  {
   "cell_type": "markdown",
   "id": "8343e69f",
   "metadata": {},
   "source": [
    "#### implementing the UCB"
   ]
  },
  {
   "cell_type": "markdown",
   "id": "14e3c3a8",
   "metadata": {},
   "source": [
    "#### Visualizing the results"
   ]
  }
 ],
 "metadata": {
  "kernelspec": {
   "display_name": "Python 3",
   "language": "python",
   "name": "python3"
  },
  "language_info": {
   "codemirror_mode": {
    "name": "ipython",
    "version": 3
   },
   "file_extension": ".py",
   "mimetype": "text/x-python",
   "name": "python",
   "nbconvert_exporter": "python",
   "pygments_lexer": "ipython3",
   "version": "3.12.6"
  }
 },
 "nbformat": 4,
 "nbformat_minor": 5
}

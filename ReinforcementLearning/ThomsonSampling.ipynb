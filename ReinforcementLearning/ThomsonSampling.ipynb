{
 "cells": [
  {
   "cell_type": "markdown",
   "id": "3ce1f878",
   "metadata": {},
   "source": [
    "### Thomson Sampling Model"
   ]
  },
  {
   "cell_type": "markdown",
   "id": "94ad8e8a",
   "metadata": {},
   "source": [
    "#### importing the libraries"
   ]
  },
  {
   "cell_type": "code",
   "execution_count": 2,
   "id": "ce4987d1",
   "metadata": {},
   "outputs": [],
   "source": [
    "import pandas as pd\n",
    "import numpy as np\n",
    "import matplotlib.pyplot as plt"
   ]
  },
  {
   "cell_type": "markdown",
   "id": "2ea181ed",
   "metadata": {},
   "source": [
    "#### importing the dataset"
   ]
  },
  {
   "cell_type": "code",
   "execution_count": 3,
   "id": "6ba02815",
   "metadata": {},
   "outputs": [],
   "source": [
    "dataset = pd.read_csv('../Datasets/Ads_CTR_Optimisation.csv')"
   ]
  },
  {
   "cell_type": "markdown",
   "id": "644d663b",
   "metadata": {},
   "source": [
    "#### implementing the thomson sampling"
   ]
  },
  {
   "cell_type": "code",
   "execution_count": 7,
   "id": "b38970db",
   "metadata": {},
   "outputs": [],
   "source": [
    "## implementing the thomson sampling\n",
    "import random\n",
    "N = 500\n",
    "d = 10\n",
    "ads_selected = []\n",
    "numbers_of_rewards_1 = [0] * d\n",
    "numbers_of_rewards_0 = [0] * d\n",
    "total_reward = 0\n",
    "for n in range(0, N):\n",
    "    ad = 0\n",
    "    max_random = 0\n",
    "    for i in range(0, d):\n",
    "        random_beta = random.betavariate(numbers_of_rewards_1[i] + 1, numbers_of_rewards_0[i] + 1)\n",
    "        if random_beta > max_random:\n",
    "            max_random = random_beta\n",
    "            ad = i\n",
    "    ads_selected.append(ad)\n",
    "    reward = dataset.values[n, ad]\n",
    "    if reward == 1:\n",
    "        numbers_of_rewards_1[ad] = numbers_of_rewards_1[ad] + 1\n",
    "    else:\n",
    "        numbers_of_rewards_0[ad] = numbers_of_rewards_0[ad] + 1\n",
    "    total_reward = total_reward + reward"
   ]
  },
  {
   "cell_type": "code",
   "execution_count": 8,
   "id": "7e619a9f",
   "metadata": {},
   "outputs": [
    {
     "name": "stdout",
     "output_type": "stream",
     "text": [
      "93\n"
     ]
    }
   ],
   "source": [
    "print(total_reward)"
   ]
  },
  {
   "cell_type": "markdown",
   "id": "e703ef8d",
   "metadata": {},
   "source": [
    "#### Visualising the results"
   ]
  },
  {
   "cell_type": "code",
   "execution_count": 9,
   "id": "c2126788",
   "metadata": {},
   "outputs": [
    {
     "data": {
      "image/png": "[encoded data removed]",
      "text/plain": [
       "<Figure size 640x480 with 1 Axes>"
      ]
     },
     "metadata": {},
     "output_type": "display_data"
    }
   ],
   "source": [
    "## Visualising the results\n",
    "plt.hist(ads_selected)\n",
    "plt.title('Histogram of ads selections')\n",
    "plt.xlabel('Ads')\n",
    "plt.ylabel('Number of times each ad was selected')\n",
    "plt.show()"
   ]
  },
  {
   "cell_type": "markdown",
   "id": "79545fa6",
   "metadata": {},
   "source": [
    "### Summary\n",
    "\n",
    "**Thompson Sampling** is a probabilistic algorithm used to solve the multi-armed bandit problem, which is about choosing the best option (ad, product, etc.) from several choices to maximize rewards (clicks, sales, etc.). It works by randomly selecting options based on their probability of being the best, updating these probabilities as more data is collected.\n",
    "\n",
    "#### How Thompson Sampling Works\n",
    "- Each option (ad) starts with an equal chance of being the best.\n",
    "- As you collect results (clicks or no clicks), you update your belief about each option.\n",
    "- At each step, you randomly pick an option based on its updated probability.\n",
    "- Over time, the algorithm focuses more on the options that perform well.\n",
    "\n",
    "#### Difference from UCB (Upper Confidence Bound) Model\n",
    "- **UCB Model**: Always picks the option with the highest upper confidence bound (a calculated score based on average reward and uncertainty). It is more deterministic and explores less randomly.\n",
    "- **Thompson Sampling**: Picks options based on probability distributions, allowing more random exploration.\n",
    "\n",
    "| Feature                | UCB Model                          | Thompson Sampling                  |\n",
    "|------------------------|------------------------------------|------------------------------------|\n",
    "| Selection Strategy     | Deterministic (highest score)      | Probabilistic (random sampling)    |\n",
    "| Exploration vs. Exploit| Less exploration                   | More balanced exploration          |\n",
    "| Complexity             | Simple to implement                | Slightly more complex              |\n",
    "| Performance            | Good, but can miss best options    | Often better, finds best options   |\n",
    "\n",
    "#### Example (Simple Terms)\n",
    "Imagine you have 10 different ads. You want to show the ad that gets the most clicks:\n",
    "- **UCB**: Always shows the ad with the highest calculated score.\n",
    "- **Thompson Sampling**: Sometimes tries other ads, even if one ad looks best, to make sure it doesn't miss a better one.\n",
    "\n",
    "#### Which is Best and Why?\n",
    "- **Thompson Sampling** is often preferred because it balances trying new options and sticking with the best ones. It usually finds the best option faster and avoids getting stuck with a suboptimal choice.\n",
    "- It is widely used in online advertising, recommendation systems, and clinical trials.\n",
    "\n",
    "#### Why Use Thompson Sampling?\n",
    "- Handles uncertainty better.\n",
    "- Adapts quickly to changing data.\n",
    "- Works well when you have limited data.\n",
    "\n",
    "**In summary:**  \n",
    "Thompson Sampling is a smart way to test different choices and learn which is best, especially when you don't have much information at the start. It is more flexible and effective than UCB in many real-world situations."
   ]
  }
 ],
 "metadata": {
  "kernelspec": {
   "display_name": "Python 3",
   "language": "python",
   "name": "python3"
  },
  "language_info": {
   "codemirror_mode": {
    "name": "ipython",
    "version": 3
   },
   "file_extension": ".py",
   "mimetype": "text/x-python",
   "name": "python",
   "nbconvert_exporter": "python",
   "pygments_lexer": "ipython3",
   "version": "3.12.6"
  }
 },
 "nbformat": 4,
 "nbformat_minor": 5
}

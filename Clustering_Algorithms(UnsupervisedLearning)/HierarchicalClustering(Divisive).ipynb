{
 "cells": [
  {
   "cell_type": "markdown",
   "id": "6ac8b9cd",
   "metadata": {},
   "source": [
    "### Hierarchical Clustering Using Divisive\n"
   ]
  },
  {
   "cell_type": "markdown",
   "id": "bb131236",
   "metadata": {},
   "source": [
    "#### importing the libraries"
   ]
  },
  {
   "cell_type": "markdown",
   "id": "f0461cb0",
   "metadata": {},
   "source": [
    "#### importing the dataset"
   ]
  },
  {
   "cell_type": "markdown",
   "id": "cdf1d975",
   "metadata": {},
   "source": [
    "### "
   ]
  }
 ],
 "metadata": {
  "language_info": {
   "name": "python"
  }
 },
 "nbformat": 4,
 "nbformat_minor": 5
}
